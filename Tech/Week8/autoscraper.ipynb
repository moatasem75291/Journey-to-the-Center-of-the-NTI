{
 "cells": [
  {
   "cell_type": "code",
   "execution_count": 1,
   "metadata": {},
   "outputs": [
    {
     "name": "stdout",
     "output_type": "stream",
     "text": [
      "Collecting autoscraper\n",
      "  Downloading autoscraper-1.1.14-py3-none-any.whl.metadata (5.3 kB)\n",
      "Requirement already satisfied: requests in c:\\users\\mbr\\anaconda3\\envs\\cuda_env\\lib\\site-packages (from autoscraper) (2.32.3)\n",
      "Collecting bs4 (from autoscraper)\n",
      "  Using cached bs4-0.0.2-py2.py3-none-any.whl.metadata (411 bytes)\n",
      "Requirement already satisfied: lxml in c:\\users\\mbr\\anaconda3\\envs\\cuda_env\\lib\\site-packages (from autoscraper) (5.3.0)\n",
      "Requirement already satisfied: beautifulsoup4 in c:\\users\\mbr\\anaconda3\\envs\\cuda_env\\lib\\site-packages (from bs4->autoscraper) (4.12.3)\n",
      "Requirement already satisfied: charset-normalizer<4,>=2 in c:\\users\\mbr\\anaconda3\\envs\\cuda_env\\lib\\site-packages (from requests->autoscraper) (3.3.2)\n",
      "Requirement already satisfied: idna<4,>=2.5 in c:\\users\\mbr\\anaconda3\\envs\\cuda_env\\lib\\site-packages (from requests->autoscraper) (3.7)\n",
      "Requirement already satisfied: urllib3<3,>=1.21.1 in c:\\users\\mbr\\anaconda3\\envs\\cuda_env\\lib\\site-packages (from requests->autoscraper) (2.2.2)\n",
      "Requirement already satisfied: certifi>=2017.4.17 in c:\\users\\mbr\\anaconda3\\envs\\cuda_env\\lib\\site-packages (from requests->autoscraper) (2024.8.30)\n",
      "Requirement already satisfied: soupsieve>1.2 in c:\\users\\mbr\\anaconda3\\envs\\cuda_env\\lib\\site-packages (from beautifulsoup4->bs4->autoscraper) (2.5)\n",
      "Downloading autoscraper-1.1.14-py3-none-any.whl (10 kB)\n",
      "Using cached bs4-0.0.2-py2.py3-none-any.whl (1.2 kB)\n",
      "Installing collected packages: bs4, autoscraper\n",
      "Successfully installed autoscraper-1.1.14 bs4-0.0.2\n"
     ]
    }
   ],
   "source": [
    "!pip install autoscraper"
   ]
  },
  {
   "cell_type": "code",
   "execution_count": 2,
   "metadata": {},
   "outputs": [],
   "source": [
    "from autoscraper import AutoScraper\n",
    "import pandas as pd"
   ]
  },
  {
   "cell_type": "code",
   "execution_count": 9,
   "metadata": {},
   "outputs": [],
   "source": [
    "url = \"http://books.toscrape.com/\"\n",
    "wanted_list = [\"A Light in the Attic\", \"£51.77\", \"icon-star\"]"
   ]
  },
  {
   "cell_type": "code",
   "execution_count": 10,
   "metadata": {},
   "outputs": [
    {
     "data": {
      "text/plain": [
       "['A Light in the Attic',\n",
       " 'Tipping the Velvet',\n",
       " 'Soumission',\n",
       " 'Sharp Objects',\n",
       " 'Sapiens: A Brief History of Humankind',\n",
       " 'The Requiem Red',\n",
       " 'The Dirty Little Secrets of Getting Your Dream Job',\n",
       " 'The Coming Woman: A Novel Based on the Life of the Infamous Feminist, Victoria Woodhull',\n",
       " 'The Boys in the Boat: Nine Americans and Their Epic Quest for Gold at the 1936 Berlin Olympics',\n",
       " 'The Black Maria',\n",
       " 'Starving Hearts (Triangular Trade Trilogy, #1)',\n",
       " \"Shakespeare's Sonnets\",\n",
       " 'Set Me Free',\n",
       " \"Scott Pilgrim's Precious Little Life (Scott Pilgrim #1)\",\n",
       " 'Rip it Up and Start Again',\n",
       " 'Our Band Could Be Your Life: Scenes from the American Indie Underground, 1981-1991',\n",
       " 'Olio',\n",
       " 'Mesaerion: The Best Science Fiction Stories 1800-1849',\n",
       " 'Libertarianism for Beginners',\n",
       " \"It's Only the Himalayas\",\n",
       " '£51.77',\n",
       " '£53.74',\n",
       " '£50.10',\n",
       " '£47.82',\n",
       " '£54.23',\n",
       " '£22.65',\n",
       " '£33.34',\n",
       " '£17.93',\n",
       " '£22.60',\n",
       " '£52.15',\n",
       " '£13.99',\n",
       " '£20.66',\n",
       " '£17.46',\n",
       " '£52.29',\n",
       " '£35.02',\n",
       " '£57.25',\n",
       " '£23.88',\n",
       " '£37.59',\n",
       " '£51.33',\n",
       " '£45.17']"
      ]
     },
     "execution_count": 10,
     "metadata": {},
     "output_type": "execute_result"
    }
   ],
   "source": [
    "scraper = AutoScraper()\n",
    "scraper.build(url, wanted_list)"
   ]
  },
  {
   "cell_type": "code",
   "execution_count": null,
   "metadata": {},
   "outputs": [],
   "source": []
  }
 ],
 "metadata": {
  "kernelspec": {
   "display_name": "cuda_env",
   "language": "python",
   "name": "python3"
  },
  "language_info": {
   "codemirror_mode": {
    "name": "ipython",
    "version": 3
   },
   "file_extension": ".py",
   "mimetype": "text/x-python",
   "name": "python",
   "nbconvert_exporter": "python",
   "pygments_lexer": "ipython3",
   "version": "3.10.14"
  }
 },
 "nbformat": 4,
 "nbformat_minor": 2
}
