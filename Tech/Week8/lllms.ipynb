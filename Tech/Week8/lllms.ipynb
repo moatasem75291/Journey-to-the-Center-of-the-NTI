{
 "cells": [
  {
   "cell_type": "code",
   "execution_count": 8,
   "metadata": {},
   "outputs": [],
   "source": [
    "import dotenv\n",
    "import os\n",
    "dotenv.load_dotenv()\n",
    "\n",
    "google_key = os.getenv('GOOGLE_API_KEY')"
   ]
  },
  {
   "cell_type": "code",
   "execution_count": null,
   "metadata": {},
   "outputs": [
    {
     "name": "stdout",
     "output_type": "stream",
     "text": [
      "{\n",
      "  \"candidates\": [\n",
      "    {\n",
      "      \"content\": {\n",
      "        \"parts\": [\n",
      "          {\n",
      "            \"text\": \"## AI: A Simplified Explanation\\n\\nArtificial Intelligence (AI) is the simulation of human intelligence processes by machines, especially computer systems.  It's not about creating a robot that thinks exactly like a human, but rather designing systems that can learn, problem-solve, and make decisions like humans do, albeit in a different way.\\n\\nHere's a breakdown of how AI works, focusing on two main approaches:\\n\\n**1. Machine Learning (ML):**\\n\\n* **The Idea:** ML algorithms are trained on massive datasets, learning patterns and relationships within the data. They then use this knowledge to make predictions or decisions on new, unseen data.\\n* **Key Concept:** Learning from examples, not explicit programming. \\n* **Types of ML:**\\n    * **Supervised Learning:** The algorithm is given labeled data (inputs and desired outputs) and learns to predict the output for new inputs. Example: Classifying emails as spam or not spam.\\n    * **Unsupervised Learning:** The algorithm is given unlabeled data and learns to find patterns and structure in the data. Example: Clustering similar customers based on their purchasing history.\\n    * **Reinforcement Learning:** The algorithm interacts with an environment and learns by trial and error, receiving rewards or penalties for its actions. Example: Training a robot to navigate a maze.\\n\\n**2. Deep Learning (DL):**\\n\\n* **The Idea:** DL is a subset of ML that uses artificial neural networks with multiple layers to learn complex patterns and relationships.\\n* **Key Concept:** Inspired by the structure and function of the human brain, with interconnected nodes forming a network that processes information.\\n* **Applications:** Image recognition, natural language processing, speech synthesis, and more.\\n\\n**AI in Action:**\\n\\n* **Recommending products on e-commerce sites:** ML algorithms analyze your past purchases and browsing history to suggest items you might like.\\n* **Detecting fraud in financial transactions:** AI can analyze patterns in transactions and identify suspicious activity.\\n* **Self-driving cars:** DL algorithms are trained to recognize objects, interpret traffic signals, and make driving decisions.\\n* **Chatbots:** AI-powered chatbots can understand and respond to human language, providing customer support or answering questions.\\n\\n**Important Note:** AI is not a monolithic entity. It encompasses various techniques, algorithms, and approaches, each with its own strengths and limitations. The field is constantly evolving and new advancements are being made all the time. \\n\"\n",
      "          }\n",
      "        ],\n",
      "        \"role\": \"model\"\n",
      "      },\n",
      "      \"finishReason\": \"STOP\",\n",
      "      \"index\": 0,\n",
      "      \"safetyRatings\": [\n",
      "        {\n",
      "          \"category\": \"HARM_CATEGORY_SEXUALLY_EXPLICIT\",\n",
      "          \"probability\": \"NEGLIGIBLE\"\n",
      "        },\n",
      "        {\n",
      "          \"category\": \"HARM_CATEGORY_HATE_SPEECH\",\n",
      "          \"probability\": \"NEGLIGIBLE\"\n",
      "        },\n",
      "        {\n",
      "          \"category\": \"HARM_CATEGORY_HARASSMENT\",\n",
      "          \"probability\": \"NEGLIGIBLE\"\n",
      "        },\n",
      "        {\n",
      "          \"category\": \"HARM_CATEGORY_DANGEROUS_CONTENT\",\n",
      "          \"probability\": \"NEGLIGIBLE\"\n",
      "        }\n",
      "      ],\n",
      "      \"citationMetadata\": {\n",
      "        \"citationSources\": [\n",
      "          {\n",
      "            \"startIndex\": 33,\n",
      "            \"endIndex\": 158,\n",
      "            \"uri\": \"https://gitprotect.io/blog/harnessing-ai-and-chatgpt-for-devops-processes/\",\n",
      "            \"license\": \"\"\n",
      "          }\n",
      "        ]\n",
      "      }\n",
      "    }\n",
      "  ],\n",
      "  \"usageMetadata\": {\n",
      "    \"promptTokenCount\": 4,\n",
      "    \"candidatesTokenCount\": 506,\n",
      "    \"totalTokenCount\": 510\n",
      "  },\n",
      "  \"modelVersion\": \"gemini-1.5-flash-001\"\n",
      "}\n",
      "\n"
     ]
    }
   ],
   "source": [
    "import subprocess\n",
    "\n",
    "\n",
    "command = [\n",
    "    \"curl\", \"-H\", \"Content-Type: application/json\",\n",
    "    \"-d\", '{\"contents\":[{\"parts\":[{\"text\":\"Explain how AI works\"}]}]}',\n",
    "    \"-X\", \"POST\", f\"https://generativelanguage.googleapis.com/v1beta/models/gemini-1.5-flash-latest:generateContent?key={google_key}\"\n",
    "]\n",
    "\n",
    "result = subprocess.run(command, capture_output=True, text=True)\n",
    "print(result.stdout)"
   ]
  },
  {
   "cell_type": "code",
   "execution_count": 17,
   "metadata": {},
   "outputs": [],
   "source": [
    "import textwrap\n",
    "\n",
    "from IPython.display import Markdown\n",
    "\n",
    "def to_markdown(text: str) -> Markdown:\n",
    "  text = text.replace('•', '  *')\n",
    "  return Markdown(textwrap.indent(text, '> ', predicate=lambda _: True))"
   ]
  },
  {
   "cell_type": "code",
   "execution_count": 31,
   "metadata": {},
   "outputs": [],
   "source": [
    "import google.generativeai as genai\n",
    "\n",
    "genai.configure(api_key=google_key)\n",
    "model = genai.GenerativeModel(\"gemini-1.5-pro\")\n",
    "response = model.generate_content(\"Explain how AI works\")"
   ]
  },
  {
   "cell_type": "code",
   "execution_count": 32,
   "metadata": {},
   "outputs": [
    {
     "data": {
      "text/markdown": [
       "> AI, or artificial intelligence, aims to mimic human intelligence processes using computers.  While the field is broad, most AI systems today rely on a few core concepts:\n",
       "> \n",
       "> **1. Data:**  AI thrives on data.  Massive datasets are used to train algorithms, allowing them to learn patterns, make predictions, and perform tasks. The quality and quantity of data significantly impact an AI's effectiveness.\n",
       "> \n",
       "> **2. Algorithms:** These are sets of rules and statistical techniques that guide the AI's learning process.  Different algorithms are suited to different tasks.  Common types include:\n",
       "> \n",
       "> * **Machine Learning (ML):**  Algorithms that allow computers to learn from data without explicit programming.  This is achieved by identifying patterns in data and using those patterns to make predictions or decisions on new data.  ML is further divided into:\n",
       ">     * **Supervised Learning:**  The algorithm is trained on labeled data (input data paired with the correct output). Examples include image classification and spam detection.\n",
       ">     * **Unsupervised Learning:**  The algorithm explores unlabeled data to find patterns and relationships. Examples include clustering similar customer profiles and dimensionality reduction.\n",
       ">     * **Reinforcement Learning:**  The algorithm learns through trial and error, receiving rewards for correct actions and penalties for incorrect ones. Examples include game playing and robot navigation.\n",
       "> * **Deep Learning (DL):** A subset of ML that uses artificial neural networks with multiple layers to analyze complex data. DL excels in areas like image and speech recognition, natural language processing, and machine translation.\n",
       "> * **Natural Language Processing (NLP):**  Focuses on enabling computers to understand, interpret, and generate human language.  Applications include chatbots, language translation, and sentiment analysis.\n",
       "> * **Computer Vision:**  Enables computers to \"see\" and interpret images and videos, similar to how humans do.  Applications include object detection, facial recognition, and medical image analysis.\n",
       "> \n",
       "> **3.  Neural Networks:** Inspired by the human brain, these are complex interconnected networks of nodes (neurons) organized in layers.  Each connection has a weight, which represents its strength. During training, these weights are adjusted to optimize the network's performance.  Deep learning uses networks with many layers (hence \"deep\").\n",
       "> \n",
       "> **4. Training Process:**  This involves feeding the algorithm with data and allowing it to learn patterns.  The algorithm adjusts its internal parameters (e.g., weights in a neural network) to minimize errors and improve its accuracy.  This often involves iterative processes and optimization techniques.\n",
       "> \n",
       "> **5.  Inference/Prediction:** Once trained, the AI can be used to make predictions or decisions on new, unseen data.  It applies the learned patterns to analyze the new data and generate an output.\n",
       "> \n",
       "> **Simplified Analogy:** Imagine teaching a dog a trick.  You show it what to do (data), give it commands and rewards (algorithm and training), and over time it learns to perform the trick reliably (inference).\n",
       "> \n",
       "> **Limitations:**  While powerful, AI has limitations. It can be biased by the data it's trained on, struggle with tasks requiring common sense or creativity, and lack true understanding of the world.  Explainability and ethical considerations are also crucial areas of ongoing research and development.\n"
      ],
      "text/plain": [
       "<IPython.core.display.Markdown object>"
      ]
     },
     "execution_count": 32,
     "metadata": {},
     "output_type": "execute_result"
    }
   ],
   "source": [
    "markdown = to_markdown(response.text)\n",
    "markdown"
   ]
  },
  {
   "cell_type": "code",
   "execution_count": 36,
   "metadata": {},
   "outputs": [],
   "source": [
    "from  PIL import Image\n",
    "image = Image.open(\"MainAfter.webp\")\n",
    "\n",
    "response = model.generate_content([\"Explain the conten in the image in Arabic\", image]).text"
   ]
  },
  {
   "cell_type": "code",
   "execution_count": 37,
   "metadata": {},
   "outputs": [
    {
     "data": {
      "text/markdown": [
       "> تُظهر الصورة حرباء صغيرة زاهية الألوان، ذات لون أزرق في الغالب مع درجات من الأحمر والأخضر والوردي حول عينيها وفمها.  تتميز عيناها الكبيرتان بالألوان المتعددة، ولسانها الصغير يبرز قليلاً.  الحرباء متشبثة بتلة زهرة كبيرة ذات ألوان زاهية أيضًا، تتدرج بين الوردي والأصفر والبرتقالي.  خلفية الصورة ضبابية، مما يركز الانتباه على الحرباء.\n"
      ],
      "text/plain": [
       "<IPython.core.display.Markdown object>"
      ]
     },
     "execution_count": 37,
     "metadata": {},
     "output_type": "execute_result"
    }
   ],
   "source": [
    "to_markdown(response)"
   ]
  },
  {
   "cell_type": "code",
   "execution_count": 38,
   "metadata": {},
   "outputs": [],
   "source": [
    "pdf = genai.upload_file(\"1511.08458v2.pdf\")\n",
    "\n",
    "response = model.generate_content([\"Summarize the content of the PDF in Arabic\", pdf]).text"
   ]
  },
  {
   "cell_type": "code",
   "execution_count": 39,
   "metadata": {},
   "outputs": [
    {
     "data": {
      "text/markdown": [
       "> يقدم هذا المستند مقدمة موجزة عن الشبكات العصبية التلافيفية (CNNs)، ويناقش الأوراق المنشورة مؤخرًا والتقنيات الحديثة في تطوير هذه النماذج الرائعة للتعرف على الصور. تفترض هذه المقدمة أنك على دراية بأساسيات الشبكات العصبية الاصطناعية والتعلم الآلي.\n",
       "> \n",
       "> يبدأ المستند بمقدمة عن الشبكات العصبية الاصطناعية (ANNs)، موضحًا بنيتها الأساسية وأنواع التعلم المستخدمة في مهام معالجة الصور (التعلم الخاضع للإشراف وغير الخاضع للإشراف). ثم ينتقل إلى مناقشة الشبكات العصبية التلافيفية (CNNs) ، وكيف تختلف عن الشبكات العصبية الاصطناعية التقليدية من حيث هيكلها وتركيزها على التعرف على الأنماط داخل الصور.\n",
       "> \n",
       "> يتناول المستند أيضًا مشكلة التكيف الزائد، وهي ظاهرة تُعيق قدرة الشبكة على التعميم بشكل فعال على بيانات جديدة. يشدد على أهمية تقليل تعقيد الشبكة لتقليل آثار التكيف الزائد.\n",
       "> \n",
       "> يناقش المستند بالتفصيل بنية CNNs، موضحًا الأنواع الثلاثة للطبقات التي تشكلها: طبقات التلافيف، وطبقات التجميع، والطبقات المتصلة بالكامل. ويوضح وظيفة كل طبقة وكيف تساهم في عملية التعرف على الصور.\n",
       "> \n",
       "> يوفر المستند أيضًا إرشادات حول كيفية تصميم بنيات CNN، مثل تجميع طبقات متعددة من التلافيف، وتقسيم الطبقات التلافيفية الكبيرة إلى طبقات أصغر، وجعل طبقة الإدخال قابلة للقسمة بشكل متكرر على اثنين.\n",
       "> \n",
       "> في الختام، يؤكد المستند على أن شبكات CNN تختلف عن أشكال أخرى من الشبكات العصبية الاصطناعية من حيث أنها تستغل المعرفة بنوع الإدخال المحدد، مما يسمح بإعداد بنية شبكة أبسط بكثير. يهدف هذا المستند إلى شرح المفاهيم الأساسية لشبكات CNN وجعلها أكثر سهولة للمبتدئين.\n"
      ],
      "text/plain": [
       "<IPython.core.display.Markdown object>"
      ]
     },
     "execution_count": 39,
     "metadata": {},
     "output_type": "execute_result"
    }
   ],
   "source": [
    "\n",
    "to_markdown(response)"
   ]
  },
  {
   "cell_type": "code",
   "execution_count": null,
   "metadata": {},
   "outputs": [],
   "source": []
  }
 ],
 "metadata": {
  "kernelspec": {
   "display_name": "cuda_env",
   "language": "python",
   "name": "python3"
  },
  "language_info": {
   "codemirror_mode": {
    "name": "ipython",
    "version": 3
   },
   "file_extension": ".py",
   "mimetype": "text/x-python",
   "name": "python",
   "nbconvert_exporter": "python",
   "pygments_lexer": "ipython3",
   "version": "3.10.14"
  }
 },
 "nbformat": 4,
 "nbformat_minor": 2
}
